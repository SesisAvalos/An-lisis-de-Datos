{
  "nbformat": 4,
  "nbformat_minor": 0,
  "metadata": {
    "colab": {
      "provenance": []
    },
    "kernelspec": {
      "name": "python3",
      "display_name": "Python 3"
    },
    "language_info": {
      "name": "python"
    }
  },
  "cells": [
    {
      "cell_type": "markdown",
      "source": [
        "### Ejercicio 3\n",
        "### Hacer una matriz de 8x8 con números enteros consecutivos empezando en 1\n",
        "### Llenado por filas (1,2,3,4,...)"
      ],
      "metadata": {
        "id": "mhGozmuObLBM"
      }
    },
    {
      "cell_type": "code",
      "execution_count": 1,
      "metadata": {
        "colab": {
          "base_uri": "https://localhost:8080/"
        },
        "id": "SYfZSGeQaVY7",
        "outputId": "76e6a58a-5284-4c81-a330-8ac102110df4"
      },
      "outputs": [
        {
          "output_type": "execute_result",
          "data": {
            "text/plain": [
              "array([[ 1,  2,  3,  4,  5,  6,  7,  8],\n",
              "       [ 9, 10, 11, 12, 13, 14, 15, 16],\n",
              "       [17, 18, 19, 20, 21, 22, 23, 24],\n",
              "       [25, 26, 27, 28, 29, 30, 31, 32],\n",
              "       [33, 34, 35, 36, 37, 38, 39, 40],\n",
              "       [41, 42, 43, 44, 45, 46, 47, 48],\n",
              "       [49, 50, 51, 52, 53, 54, 55, 56],\n",
              "       [57, 58, 59, 60, 61, 62, 63, 64]])"
            ]
          },
          "metadata": {},
          "execution_count": 1
        }
      ],
      "source": [
        "import numpy as np\n",
        "\n",
        "matriz = np.arange(1,65,1).reshape(8,8)\n",
        "matriz"
      ]
    },
    {
      "cell_type": "markdown",
      "source": [
        "### Ejercicio 4\n",
        "### 1) Hacer una matriz 8x8 con números enteros consecutivos empezando en 1. Llenado por columnas.\n",
        "### 2) Reemplazar lo elementos que tengan al menos un 3 por -99"
      ],
      "metadata": {
        "id": "GI0X8TzOc8fg"
      }
    },
    {
      "cell_type": "code",
      "source": [
        "matriz1 = matriz.T\n",
        "\n",
        "#Mi compañera de clase me ayudó en esta parte\n",
        "#Cambiando los valores que tengan 3 por un -99\n",
        "for indrow, row in enumerate (matriz1): #se corre por fila y se obtiene los indices\n",
        "    for indcol, element in enumerate (row): #se corre por columnas y se obtiene los indices\n",
        "        x = str(element) #convertimos a string el indice\n",
        "        temp = x.find('3') #se encuentra los elementos con el elemento '3'\n",
        "        if (temp != -1): #se busca los elementos con el -1\n",
        "            #print(element, indcol, indrow)\n",
        "            matriz1[indrow, indcol] = -99 #pasamos los indices para cambiar el valor a -99\n",
        "matriz1"
      ],
      "metadata": {
        "id": "kAD8mkXNdeYa",
        "colab": {
          "base_uri": "https://localhost:8080/"
        },
        "outputId": "0079bd8a-a59b-41ac-e703-c6a7960c8d11"
      },
      "execution_count": 3,
      "outputs": [
        {
          "output_type": "execute_result",
          "data": {
            "text/plain": [
              "array([[  1,   9,  17,  25, -99,  41,  49,  57],\n",
              "       [  2,  10,  18,  26, -99,  42,  50,  58],\n",
              "       [-99,  11,  19,  27, -99, -99,  51,  59],\n",
              "       [  4,  12,  20,  28, -99,  44,  52,  60],\n",
              "       [  5, -99,  21,  29, -99,  45, -99,  61],\n",
              "       [  6,  14,  22, -99, -99,  46,  54,  62],\n",
              "       [  7,  15, -99, -99, -99,  47,  55, -99],\n",
              "       [  8,  16,  24, -99,  40,  48,  56,  64]])"
            ]
          },
          "metadata": {},
          "execution_count": 3
        }
      ]
    }
  ]
}