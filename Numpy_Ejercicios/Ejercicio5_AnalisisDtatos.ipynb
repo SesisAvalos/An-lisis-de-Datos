{
  "nbformat": 4,
  "nbformat_minor": 0,
  "metadata": {
    "colab": {
      "provenance": []
    },
    "kernelspec": {
      "name": "python3",
      "display_name": "Python 3"
    },
    "language_info": {
      "name": "python"
    }
  },
  "cells": [
    {
      "cell_type": "markdown",
      "source": [
        "### i. Reproducir la matriz B:\n",
        "### [[0.4 0.41 0.42 0.43 0.44]\n",
        "### [0.45 0.46 0.47 0.48 0.49]\n",
        "### [0.5 0.51 0.52 0.53 0.54]\n",
        "### [0.55 0.56 0.57 0.58 0.59]\n",
        "### [0.6 0.61 0.62 0.63 0.64]\n",
        "### [0.65 0.66 0.67 0.68 0.69]\n",
        "### [0.7 0.71 0.72 0.73 0.74]\n",
        "### [0.75 0.76 0.77 0.78 0.79]]"
      ],
      "metadata": {
        "id": "Af7PDUJF7P10"
      }
    },
    {
      "cell_type": "code",
      "execution_count": 103,
      "metadata": {
        "colab": {
          "base_uri": "https://localhost:8080/"
        },
        "id": "h4cfkNUB7Fln",
        "outputId": "7e183b35-62ac-49cf-bc3f-772bdba65dec"
      },
      "outputs": [
        {
          "output_type": "execute_result",
          "data": {
            "text/plain": [
              "array([[0.4 , 0.41, 0.42, 0.43, 0.44],\n",
              "       [0.45, 0.46, 0.47, 0.48, 0.49],\n",
              "       [0.5 , 0.51, 0.52, 0.53, 0.54],\n",
              "       [0.55, 0.56, 0.57, 0.58, 0.59],\n",
              "       [0.6 , 0.61, 0.62, 0.63, 0.64],\n",
              "       [0.65, 0.66, 0.67, 0.68, 0.69],\n",
              "       [0.7 , 0.71, 0.72, 0.73, 0.74],\n",
              "       [0.75, 0.76, 0.77, 0.78, 0.79]])"
            ]
          },
          "metadata": {},
          "execution_count": 103
        }
      ],
      "source": [
        "import numpy as np\n",
        "\n",
        "B = np.arange(0.4,0.8,0.01).reshape(8,5)\n",
        "B"
      ]
    },
    {
      "cell_type": "markdown",
      "source": [
        "### ii. Unir B con el resultado del ejercicio anterior 2.ii para obtener una  matriz de 8 lineas y 13 columnas.\n"
      ],
      "metadata": {
        "id": "4qhrNiBTl8L5"
      }
    },
    {
      "cell_type": "code",
      "source": [
        "A = np.arange(1,65,1).reshape(8,8)\n",
        "A = A.T\n",
        "#Mi compañera de clase me ayudó en esta parte\n",
        "#Cambiando los valores que tengan 3 por un -99\n",
        "for indrow, row in enumerate (A): #se corre por fila y se obtiene los indices\n",
        "    for indcol, element in enumerate (row): #se corre por columnas y se obtiene los indices\n",
        "        x = str(element) #convertimos a string el indice\n",
        "        temp = x.find('3') #se encuentra los elementos con el elemento '3'\n",
        "        if (temp != -1): #se busca los elementos con el -1\n",
        "            #print(element, indcol, indrow)\n",
        "            A[indrow, indcol] = -99 #pasamos los indices para cambiar el valor a -99\n",
        "\n",
        "matriz = np.concatenate((A,B),axis=1)\n",
        "matriz"
      ],
      "metadata": {
        "colab": {
          "base_uri": "https://localhost:8080/"
        },
        "id": "2KvKmJ0_mAUd",
        "outputId": "2322f88b-cfc6-4c56-ebdd-e013af738b9e"
      },
      "execution_count": 104,
      "outputs": [
        {
          "output_type": "execute_result",
          "data": {
            "text/plain": [
              "array([[  1.  ,   9.  ,  17.  ,  25.  , -99.  ,  41.  ,  49.  ,  57.  ,\n",
              "          0.4 ,   0.41,   0.42,   0.43,   0.44],\n",
              "       [  2.  ,  10.  ,  18.  ,  26.  , -99.  ,  42.  ,  50.  ,  58.  ,\n",
              "          0.45,   0.46,   0.47,   0.48,   0.49],\n",
              "       [-99.  ,  11.  ,  19.  ,  27.  , -99.  , -99.  ,  51.  ,  59.  ,\n",
              "          0.5 ,   0.51,   0.52,   0.53,   0.54],\n",
              "       [  4.  ,  12.  ,  20.  ,  28.  , -99.  ,  44.  ,  52.  ,  60.  ,\n",
              "          0.55,   0.56,   0.57,   0.58,   0.59],\n",
              "       [  5.  , -99.  ,  21.  ,  29.  , -99.  ,  45.  , -99.  ,  61.  ,\n",
              "          0.6 ,   0.61,   0.62,   0.63,   0.64],\n",
              "       [  6.  ,  14.  ,  22.  , -99.  , -99.  ,  46.  ,  54.  ,  62.  ,\n",
              "          0.65,   0.66,   0.67,   0.68,   0.69],\n",
              "       [  7.  ,  15.  , -99.  , -99.  , -99.  ,  47.  ,  55.  , -99.  ,\n",
              "          0.7 ,   0.71,   0.72,   0.73,   0.74],\n",
              "       [  8.  ,  16.  ,  24.  , -99.  ,  40.  ,  48.  ,  56.  ,  64.  ,\n",
              "          0.75,   0.76,   0.77,   0.78,   0.79]])"
            ]
          },
          "metadata": {},
          "execution_count": 104
        }
      ]
    },
    {
      "cell_type": "markdown",
      "source": [
        "### iii. Agregar una línea al final con el promedio de cada columna\n"
      ],
      "metadata": {
        "id": "WkjPXXX_mc_2"
      }
    },
    {
      "cell_type": "code",
      "source": [
        "#Esta función regresa el promedio de los elementos del arreglo\n",
        "prom_col = np.mean(matriz, axis = 0)   \n",
        "prom_col\n",
        "\n",
        "#Lo agregamos a una línea final de nuestra matriz\n",
        "matriz1 = np.append(matriz,prom_col).reshape(9,13)\n",
        "matriz1"
      ],
      "metadata": {
        "colab": {
          "base_uri": "https://localhost:8080/"
        },
        "id": "dZGs4ft6mcjG",
        "outputId": "8da4893e-1b58-4823-bd3c-3ccd04b0bf73"
      },
      "execution_count": 105,
      "outputs": [
        {
          "output_type": "execute_result",
          "data": {
            "text/plain": [
              "array([[  1.   ,   9.   ,  17.   ,  25.   , -99.   ,  41.   ,  49.   ,\n",
              "         57.   ,   0.4  ,   0.41 ,   0.42 ,   0.43 ,   0.44 ],\n",
              "       [  2.   ,  10.   ,  18.   ,  26.   , -99.   ,  42.   ,  50.   ,\n",
              "         58.   ,   0.45 ,   0.46 ,   0.47 ,   0.48 ,   0.49 ],\n",
              "       [-99.   ,  11.   ,  19.   ,  27.   , -99.   , -99.   ,  51.   ,\n",
              "         59.   ,   0.5  ,   0.51 ,   0.52 ,   0.53 ,   0.54 ],\n",
              "       [  4.   ,  12.   ,  20.   ,  28.   , -99.   ,  44.   ,  52.   ,\n",
              "         60.   ,   0.55 ,   0.56 ,   0.57 ,   0.58 ,   0.59 ],\n",
              "       [  5.   , -99.   ,  21.   ,  29.   , -99.   ,  45.   , -99.   ,\n",
              "         61.   ,   0.6  ,   0.61 ,   0.62 ,   0.63 ,   0.64 ],\n",
              "       [  6.   ,  14.   ,  22.   , -99.   , -99.   ,  46.   ,  54.   ,\n",
              "         62.   ,   0.65 ,   0.66 ,   0.67 ,   0.68 ,   0.69 ],\n",
              "       [  7.   ,  15.   , -99.   , -99.   , -99.   ,  47.   ,  55.   ,\n",
              "        -99.   ,   0.7  ,   0.71 ,   0.72 ,   0.73 ,   0.74 ],\n",
              "       [  8.   ,  16.   ,  24.   , -99.   ,  40.   ,  48.   ,  56.   ,\n",
              "         64.   ,   0.75 ,   0.76 ,   0.77 ,   0.78 ,   0.79 ],\n",
              "       [ -8.25 ,  -1.5  ,   5.25 , -20.25 , -81.625,  26.75 ,  33.5  ,\n",
              "         40.25 ,   0.575,   0.585,   0.595,   0.605,   0.615]])"
            ]
          },
          "metadata": {},
          "execution_count": 105
        }
      ]
    },
    {
      "cell_type": "markdown",
      "source": [
        "### iv. Agregar una columna al final con el valor máximo de cada fila\n",
        "\n"
      ],
      "metadata": {
        "id": "2ycmOPesmoVG"
      }
    },
    {
      "cell_type": "code",
      "source": [
        "#Incluye la fila de promedios\n",
        "fila_valormax = np.max(matriz1, axis=1)\n",
        "#b=fila_valormax.T\n",
        "#b\n",
        "matriz2 = np.insert(matriz1, [13], fila_valormax.reshape(9,1), axis=1)\n",
        "matriz2"
      ],
      "metadata": {
        "colab": {
          "base_uri": "https://localhost:8080/"
        },
        "id": "-25KrmRamtkv",
        "outputId": "04ae4219-7772-416f-d260-5f51f28759f6"
      },
      "execution_count": 106,
      "outputs": [
        {
          "output_type": "execute_result",
          "data": {
            "text/plain": [
              "array([[  1.   ,   9.   ,  17.   ,  25.   , -99.   ,  41.   ,  49.   ,\n",
              "         57.   ,   0.4  ,   0.41 ,   0.42 ,   0.43 ,   0.44 ,  57.   ],\n",
              "       [  2.   ,  10.   ,  18.   ,  26.   , -99.   ,  42.   ,  50.   ,\n",
              "         58.   ,   0.45 ,   0.46 ,   0.47 ,   0.48 ,   0.49 ,  58.   ],\n",
              "       [-99.   ,  11.   ,  19.   ,  27.   , -99.   , -99.   ,  51.   ,\n",
              "         59.   ,   0.5  ,   0.51 ,   0.52 ,   0.53 ,   0.54 ,  59.   ],\n",
              "       [  4.   ,  12.   ,  20.   ,  28.   , -99.   ,  44.   ,  52.   ,\n",
              "         60.   ,   0.55 ,   0.56 ,   0.57 ,   0.58 ,   0.59 ,  60.   ],\n",
              "       [  5.   , -99.   ,  21.   ,  29.   , -99.   ,  45.   , -99.   ,\n",
              "         61.   ,   0.6  ,   0.61 ,   0.62 ,   0.63 ,   0.64 ,  61.   ],\n",
              "       [  6.   ,  14.   ,  22.   , -99.   , -99.   ,  46.   ,  54.   ,\n",
              "         62.   ,   0.65 ,   0.66 ,   0.67 ,   0.68 ,   0.69 ,  62.   ],\n",
              "       [  7.   ,  15.   , -99.   , -99.   , -99.   ,  47.   ,  55.   ,\n",
              "        -99.   ,   0.7  ,   0.71 ,   0.72 ,   0.73 ,   0.74 ,  55.   ],\n",
              "       [  8.   ,  16.   ,  24.   , -99.   ,  40.   ,  48.   ,  56.   ,\n",
              "         64.   ,   0.75 ,   0.76 ,   0.77 ,   0.78 ,   0.79 ,  64.   ],\n",
              "       [ -8.25 ,  -1.5  ,   5.25 , -20.25 , -81.625,  26.75 ,  33.5  ,\n",
              "         40.25 ,   0.575,   0.585,   0.595,   0.605,   0.615,  40.25 ]])"
            ]
          },
          "metadata": {},
          "execution_count": 106
        }
      ]
    },
    {
      "cell_type": "markdown",
      "source": [
        "### v. Guardar en un archivo"
      ],
      "metadata": {
        "id": "gON0tPWXmt8d"
      }
    },
    {
      "cell_type": "code",
      "source": [
        "np.savetxt('matriz.csv', matriz2, delimiter=',', fmt='%.2f')"
      ],
      "metadata": {
        "id": "v-1NsYuWw-hw"
      },
      "execution_count": 107,
      "outputs": []
    }
  ]
}