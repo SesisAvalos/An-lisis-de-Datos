{
  "nbformat": 4,
  "nbformat_minor": 0,
  "metadata": {
    "colab": {
      "provenance": []
    },
    "kernelspec": {
      "name": "python3",
      "display_name": "Python 3"
    },
    "language_info": {
      "name": "python"
    }
  },
  "cells": [
    {
      "cell_type": "code",
      "source": [
        "!pip install folium"
      ],
      "metadata": {
        "colab": {
          "base_uri": "https://localhost:8080/"
        },
        "id": "pZQO-6LU1WhZ",
        "outputId": "f402fb18-d8e4-4b53-9ac0-f835e1a7aad6"
      },
      "execution_count": null,
      "outputs": [
        {
          "output_type": "stream",
          "name": "stdout",
          "text": [
            "Looking in indexes: https://pypi.org/simple, https://us-python.pkg.dev/colab-wheels/public/simple/\n",
            "Requirement already satisfied: folium in /usr/local/lib/python3.10/dist-packages (0.14.0)\n",
            "Requirement already satisfied: branca>=0.6.0 in /usr/local/lib/python3.10/dist-packages (from folium) (0.6.0)\n",
            "Requirement already satisfied: jinja2>=2.9 in /usr/local/lib/python3.10/dist-packages (from folium) (3.1.2)\n",
            "Requirement already satisfied: numpy in /usr/local/lib/python3.10/dist-packages (from folium) (1.22.4)\n",
            "Requirement already satisfied: requests in /usr/local/lib/python3.10/dist-packages (from folium) (2.27.1)\n",
            "Requirement already satisfied: MarkupSafe>=2.0 in /usr/local/lib/python3.10/dist-packages (from jinja2>=2.9->folium) (2.1.2)\n",
            "Requirement already satisfied: urllib3<1.27,>=1.21.1 in /usr/local/lib/python3.10/dist-packages (from requests->folium) (1.26.15)\n",
            "Requirement already satisfied: certifi>=2017.4.17 in /usr/local/lib/python3.10/dist-packages (from requests->folium) (2022.12.7)\n",
            "Requirement already satisfied: charset-normalizer~=2.0.0 in /usr/local/lib/python3.10/dist-packages (from requests->folium) (2.0.12)\n",
            "Requirement already satisfied: idna<4,>=2.5 in /usr/local/lib/python3.10/dist-packages (from requests->folium) (3.4)\n"
          ]
        }
      ]
    },
    {
      "cell_type": "code",
      "execution_count": null,
      "metadata": {
        "id": "3CVyYTDO1N0t"
      },
      "outputs": [],
      "source": [
        "import pandas as pd\n",
        "import numpy as np\n",
        "import matplotlib.pyplot as plt\n",
        "import folium"
      ]
    },
    {
      "cell_type": "code",
      "source": [
        "import pandas as pd\n",
        "import numpy as np\n",
        "import folium\n",
        "import io\n",
        "from PIL import Image\n",
        "\n",
        "df = pd.read_csv(r'C:\\Users\\yakin\\OneDrive - Universidad de Guanajuato\\Documentos\\Universidad de Guanajuato\\8vo Semestre\\DataAnalysis_DCI_UGTO\\Recursos\\archive\\GCB2022v27_MtCO2_flat.csv')\n",
        "countries_geo = r'C:\\Users\\yakin\\OneDrive - Universidad de Guanajuato\\Documentos\\Universidad de Guanajuato\\8vo Semestre\\DataAnalysis_DCI_UGTO\\Recursos\\countries.geojson'\n",
        "\n",
        "df = df.drop(df[((df[\"Country\"] == \"Global\") | (df[\"Country\"] == \"International Transport\"))].index)\n",
        "data_map = df.groupby('ISO 3166-1 alpha-3')['Total'].max()\n",
        "data_map = pd.DataFrame(data_map).reset_index()\n",
        "\n",
        "data_map['Total'] = data_map['Total'].apply(lambda x: np.log(x))\n",
        "print(data_map)\n",
        "\n",
        "m = folium.Map(location=[22, -50], zoom_start=2, width='100%', height='100%',position='bottomLeft')\n",
        "folium.Choropleth(\n",
        "    geo_data=countries_geo,\n",
        "    name='choropleth',\n",
        "    data=data_map,\n",
        "    columns=['ISO 3166-1 alpha-3', 'Total'],\n",
        "    key_on='feature.properties.ISO_A3',\n",
        "    fill_color='Blues', #'BuPu',\n",
        "    fill_opacity = 0.9,\n",
        "    line_opacity = 0.2, # type: ignore\n",
        "    nan_fill_color = 'white',\n",
        "    line_color=\"black\", \n",
        "    line_weight=1,\n",
        "    legend_name='Emisiones Totales',\n",
        ").add_to(m)\n",
        "\n",
        "folium.LayerControl().add_to(m)\n",
        "m"
      ],
      "metadata": {
        "id": "sYbClcii1_aA"
      },
      "execution_count": null,
      "outputs": []
    }
  ]
}