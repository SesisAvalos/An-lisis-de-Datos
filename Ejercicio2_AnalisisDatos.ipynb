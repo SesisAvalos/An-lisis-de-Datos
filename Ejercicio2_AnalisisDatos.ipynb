{
  "nbformat": 4,
  "nbformat_minor": 0,
  "metadata": {
    "colab": {
      "provenance": [],
      "collapsed_sections": [
        "DJ38DLIaUXbA",
        "uRHCSSjS3j9M",
        "897H98Fy-1m3"
      ]
    },
    "kernelspec": {
      "name": "python3",
      "display_name": "Python 3"
    },
    "language_info": {
      "name": "python"
    }
  },
  "cells": [
    {
      "cell_type": "markdown",
      "source": [
        "### Modificamos el texto"
      ],
      "metadata": {
        "id": "DJ38DLIaUXbA"
      }
    },
    {
      "cell_type": "code",
      "execution_count": null,
      "metadata": {
        "id": "p4Y97caKlyxv"
      },
      "outputs": [],
      "source": [
        "texto = open(\"/content/ciencia_de_datos_wikipedia.txt\", \"r\")\n",
        "text = texto.read()\n",
        "a = text.split(\"\\n\")      #Pasamos el texto a una lista"
      ]
    },
    {
      "cell_type": "markdown",
      "source": [
        "### Número de párrafos totales"
      ],
      "metadata": {
        "id": "uRHCSSjS3j9M"
      }
    },
    {
      "cell_type": "code",
      "source": [
        "parra=0\n",
        "for i in a:\n",
        "  if len(i) != 0:\n",
        "    parra+=1\n",
        "print(\"El texto contiene\", parra, \"párrafos\")\n"
      ],
      "metadata": {
        "colab": {
          "base_uri": "https://localhost:8080/"
        },
        "id": "YLUqDEd102P9",
        "outputId": "73186e29-5270-4acf-c0e6-ca46e9009dbc"
      },
      "execution_count": null,
      "outputs": [
        {
          "output_type": "stream",
          "name": "stdout",
          "text": [
            "El texto contiene 4 párrafos\n"
          ]
        }
      ]
    },
    {
      "cell_type": "markdown",
      "source": [
        "### Número de palabras totales, número de palabras diferentes"
      ],
      "metadata": {
        "id": "897H98Fy-1m3"
      }
    },
    {
      "cell_type": "code",
      "source": [
        "#Editamos el texto original para poder hacer mejor el conteo de palabras \n",
        "chars = ['.', ',', '\"', \"(\", \")\"]\n",
        "res = text.translate(str.maketrans('', '', ''.join(chars)))\n",
        "\n",
        "#Número de palabras totales\n",
        "palabras = 0\n",
        "for i in res:\n",
        "  if i == \" \":\n",
        "    palabras+=1\n",
        "print(\"El texto contiene\", palabras, \"palabras\")\n",
        "print(\"\\n\")\n",
        "\n",
        "#Número de palabras diferentes\n",
        "b = res.split(\" \")\n",
        "palab_dif = 0\n",
        "palab_igu = 0\n",
        "list_palabras = [\"La\", \"la\", \"de\", \"datos\", \"estructurados\" \"y\", \"ciencia\", \"los\", \"son\", \"como\", \"es\", \"Es\", \n",
        "            \"un\", \"que\", \"con\", \"métodos\", \"campos\", \"análisis\", \"como\", \"estadística\", \"el\", \"El\", \n",
        "            \"aprendizaje\", \"del\", \"información\", \"paradigma\", \"en\", \"En\"]\n",
        "num_palabras = []\n",
        "\n",
        "for i in b:\n",
        "  if i in list_palabras:\n",
        "    palab_igu+=1\n",
        "  else:\n",
        "    palab_dif+=1\n",
        "print(\"El texto contiene\", palab_dif, \"palabras diferentes\")\n",
        "\n",
        "#PALABRAS NO REPETIDAS EN EL PRIMER PÁRRAFO\n",
        "#campo, interdisciplinario, científicos,\n",
        "#extrae, conocimiento, o, no, una, combinación, \n",
        "# minería, automático, analítica, predictiva\n",
        "\n",
        "#PALABRAS NO REPETIDAS EN EL SEGUNDO PÁRRAFO\n",
        "#concepto, reúne, estadísticas, sus,\n",
        "#métodos, relacionados, para, comprender, analizar, los, fenómenos, reales, \n",
        "#Emplea, técnicas, teorías, extraídas,muchos, dentro, contexto, las\n",
        "#matemáticas, informática\n",
        "\n",
        "#PALABRAS NO REPETIDAS EN EL TERCER PÁRRAFO\n",
        "#ganador, premio, Turing, Jim, Gray, imaginó, cuarto,\n",
        "#empírico, teórico, computacional, ahora, basado, afirmó, todo, lo, relacionado,\n",
        "#está, cambiando, debido, al, impacto, tecnología, diluvio\n",
        "\n",
        "\n",
        "#PALABRAS NO REPETIDAS EN EL CUARTO PÁRRAFO\n",
        "#este, nuevo, investigadores, se, apoyan, sistemas procesos\n",
        "#muy, diferentes, a, utilizados, pasado, modelos, ecuaciones\n",
        "#algoritmos, así, evaluación, e, interpretación, resultados\n"
      ],
      "metadata": {
        "colab": {
          "base_uri": "https://localhost:8080/"
        },
        "id": "OFEtNEx1xfhI",
        "outputId": "26de3732-bc34-42ce-f5f5-b5c64f38d804"
      },
      "execution_count": null,
      "outputs": [
        {
          "output_type": "stream",
          "name": "stdout",
          "text": [
            "El texto contiene 172 palabras\n",
            "\n",
            "\n",
            "El texto contiene 89 palabras diferentes\n"
          ]
        }
      ]
    },
    {
      "cell_type": "markdown",
      "source": [
        "### Número de caracteres totales, número de caracteres diferentes"
      ],
      "metadata": {
        "id": "oO47c2U_CCtN"
      }
    },
    {
      "cell_type": "code",
      "source": [
        "from prompt_toolkit.widgets.dialogs import D\n",
        "#Número de caracteres totales\n",
        "caracteres = len(text)\n",
        "print(\"El texto contiene\", caracteres, \"caracteres en total.\")\n",
        "print(\"Incluye: espacios y todos los signos de puntuación.\")\n",
        "print(\"\\n\")\n",
        "\n",
        "#Número de caracteres diferentes\n",
        "\n",
        "#letras = 0\n",
        "letra_dif = 0\n",
        "letra_igu = 0\n",
        "list_letras = ['\"',\"\\n\",\".\", \",\", \" \",\"a\",\"b\",\"c\",\"d\", \"e\",\"f\",\"g\",\"h\", \"i\",\"j\",\"l\",\"m\",\"n\", \n",
        "               \"o\",\"p\",\"q\",\"r\",\"s\",\"t\", \"u\",\"v\",\"x\",\"y\",\"z\", \"E\",\"á\",\"é\",\"í\",\"ó\"]\n",
        "num_letras = []\n",
        "\n",
        "for i in text:\n",
        "  if i in list_letras:\n",
        "    letra_igu+=1\n",
        "  else:\n",
        "    letra_dif+=1\n",
        "    num_letras.append(i)  \n",
        "#print(num_letras)\n",
        "print(\"El texto contiene\", letra_dif, \"caracteres diferentes\")\n",
        "#L\n",
        "#ú\n",
        "#T J G ( )"
      ],
      "metadata": {
        "colab": {
          "base_uri": "https://localhost:8080/"
        },
        "id": "BSzsyJQQCPu1",
        "outputId": "11187089-68b5-4dfa-d1cc-8eefa1f4183d"
      },
      "execution_count": null,
      "outputs": [
        {
          "output_type": "stream",
          "name": "stdout",
          "text": [
            "El texto contiene 1155 caracteres en total.\n",
            "Incluye: espacios y todos los signos de puntuación.\n",
            "\n",
            "\n",
            "El texto contiene 7 caracteres diferentes\n"
          ]
        }
      ]
    }
  ]
}