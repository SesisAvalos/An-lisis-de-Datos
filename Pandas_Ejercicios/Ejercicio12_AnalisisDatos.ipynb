{
  "nbformat": 4,
  "nbformat_minor": 0,
  "metadata": {
    "colab": {
      "provenance": []
    },
    "kernelspec": {
      "name": "python3",
      "display_name": "Python 3"
    },
    "language_info": {
      "name": "python"
    }
  },
  "cells": [
    {
      "cell_type": "markdown",
      "source": [
        "### **i**. Crear la serie A serie con:\n",
        "### - Índices: letras del abecedario ordenadas (investigar función que genere la lista)\n",
        "### - Valores: números enteros comenzando en 10, odenados de forma creciente y paso de 1\n",
        "\n",
        "### **ii**. Crear la serie B serie con:\n",
        "### - Índices: números enteros comenzando en 10, odenados de forma creciente y paso de 1\n",
        "### - Valores: letras del abecedario con orden inverso (z, y, x, w ...)\n",
        "\n",
        "### **iii**. Seleccionar de cada una de las series los elementos con índice o valor entre d:i\n",
        "\n"
      ],
      "metadata": {
        "id": "ZRbxf7JuE6sd"
      }
    },
    {
      "cell_type": "code",
      "source": [
        "import string\n",
        "import pandas as pd\n",
        "\n",
        "# SERIE A\n",
        "\n",
        "#índices\n",
        "abcd_string = string.ascii_uppercase\n",
        "abcd_list = list(abcd_string)\n",
        "\n",
        "#valores\n",
        "numeros = range(10,36,1)\n",
        "\n",
        "A = pd.Series(data = numeros, index = abcd_list)\n",
        "A\n"
      ],
      "metadata": {
        "colab": {
          "base_uri": "https://localhost:8080/"
        },
        "id": "CHJC1zcsDvAW",
        "outputId": "fdc1b1db-66b3-46b0-c1a2-8dd767b7f45f"
      },
      "execution_count": 7,
      "outputs": [
        {
          "output_type": "stream",
          "name": "stdout",
          "text": [
            "['A', 'B', 'C', 'D', 'E', 'F', 'G', 'H', 'I', 'J', 'K', 'L', 'M', 'N', 'O', 'P', 'Q', 'R', 'S', 'T', 'U', 'V', 'W', 'X', 'Y', 'Z']\n"
          ]
        },
        {
          "output_type": "execute_result",
          "data": {
            "text/plain": [
              "A    10\n",
              "B    11\n",
              "C    12\n",
              "D    13\n",
              "E    14\n",
              "F    15\n",
              "G    16\n",
              "H    17\n",
              "I    18\n",
              "J    19\n",
              "K    20\n",
              "L    21\n",
              "M    22\n",
              "N    23\n",
              "O    24\n",
              "P    25\n",
              "Q    26\n",
              "R    27\n",
              "S    28\n",
              "T    29\n",
              "U    30\n",
              "V    31\n",
              "W    32\n",
              "X    33\n",
              "Y    34\n",
              "Z    35\n",
              "dtype: int64"
            ]
          },
          "metadata": {},
          "execution_count": 7
        }
      ]
    },
    {
      "cell_type": "code",
      "source": [
        "# SERIE B\n",
        "\n",
        "#índices, es la lista de números de la sección pasada\n",
        "\n",
        "#valores\n",
        "abcd_inv = string.ascii_uppercase[::-1]\n",
        "abcd_invlist = list(abcd_inv)\n",
        "\n",
        "#B\n",
        "B = pd.Series(data = abcd_invlist, index = numeros)\n",
        "B"
      ],
      "metadata": {
        "colab": {
          "base_uri": "https://localhost:8080/"
        },
        "id": "Qv24BBAvGI_J",
        "outputId": "fe74a71f-9fd4-4664-ced0-48dd93568c21"
      },
      "execution_count": 9,
      "outputs": [
        {
          "output_type": "execute_result",
          "data": {
            "text/plain": [
              "10    Z\n",
              "11    Y\n",
              "12    X\n",
              "13    W\n",
              "14    V\n",
              "15    U\n",
              "16    T\n",
              "17    S\n",
              "18    R\n",
              "19    Q\n",
              "20    P\n",
              "21    O\n",
              "22    N\n",
              "23    M\n",
              "24    L\n",
              "25    K\n",
              "26    J\n",
              "27    I\n",
              "28    H\n",
              "29    G\n",
              "30    F\n",
              "31    E\n",
              "32    D\n",
              "33    C\n",
              "34    B\n",
              "35    A\n",
              "dtype: object"
            ]
          },
          "metadata": {},
          "execution_count": 9
        }
      ]
    },
    {
      "cell_type": "code",
      "source": [
        "A['d':'1']"
      ],
      "metadata": {
        "colab": {
          "base_uri": "https://localhost:8080/"
        },
        "id": "UidQYeqns6Ug",
        "outputId": "fc8d0afd-0472-4c38-91f1-b43849247e5c"
      },
      "execution_count": 12,
      "outputs": [
        {
          "output_type": "execute_result",
          "data": {
            "text/plain": [
              "Series([], dtype: int64)"
            ]
          },
          "metadata": {},
          "execution_count": 12
        }
      ]
    },
    {
      "cell_type": "code",
      "source": [
        "B[B.isin(['d','e','f','g','h','i'])]"
      ],
      "metadata": {
        "colab": {
          "base_uri": "https://localhost:8080/"
        },
        "id": "fqcOf_i7tduG",
        "outputId": "b5e38793-22bb-4980-b056-0c7d021828df"
      },
      "execution_count": 15,
      "outputs": [
        {
          "output_type": "execute_result",
          "data": {
            "text/plain": [
              "Series([], dtype: object)"
            ]
          },
          "metadata": {},
          "execution_count": 15
        }
      ]
    }
  ]
}