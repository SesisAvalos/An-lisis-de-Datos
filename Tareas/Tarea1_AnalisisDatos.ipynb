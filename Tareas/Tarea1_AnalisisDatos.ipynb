{
  "nbformat": 4,
  "nbformat_minor": 0,
  "metadata": {
    "colab": {
      "provenance": []
    },
    "kernelspec": {
      "name": "python3",
      "display_name": "Python 3"
    },
    "language_info": {
      "name": "python"
    }
  },
  "cells": [
    {
      "cell_type": "code",
      "execution_count": null,
      "metadata": {
        "id": "WUARug3ZEGRj"
      },
      "outputs": [],
      "source": [
        "import pandas as pd  \n",
        "correos = pd.read_excel('lista_correos.xlsx', names = [0])   #Leemos el documento de excel\n",
        "lista = correos[0].values.tolist()                           #Colocamos los datos en una lista\n",
        "#Son 23 elementos en la lista\n",
        "\n",
        "StrA = \" \".join(lista)                                       #Transformamos la lista a una cadena\n",
        "a = StrA.split(\"@\")                                          #Separamos los elementos de la cadena cuando se encuentre un '@'\n",
        "aa = \" \".join(a)                                             #Transformamos la lista a una cadena\n",
        "b = aa.split(\" \")                                            #Separamos los elementos de la cadena cuando se encuentre un ' '\n",
        "#print(b)"
      ]
    },
    {
      "cell_type": "code",
      "source": [
        "nombres = []                                                 #Definimos una lista vacía para almacenar los nombres de usuario\n",
        "dominio = []                                                 #Definimos una lista vacía para almacenar los dominios de los correos\n",
        "\n",
        "for i in range(len(b)):                                      #Utilizamos un ciclo for para separar los nombres de usuario y dominios de correos\n",
        "  if (i==0 or i%2==0):\n",
        "    nombres.append(b[i])\n",
        "  else:\n",
        "    dominio.append(b[i])\n",
        "print(\"Los dominios de correo son: \")\n",
        "print(dominio)\n",
        "print(\" \")\n",
        "print(\" \")\n",
        "\n",
        "print(\"Los nombres de usuario y las vocales que contienen son: \")\n",
        "vocales = 0                                                  #Definimos variables y listas para recorrer dos ciclos for para hacer el conteo de vocales por nombre usuario\n",
        "list_vocale = ['a','e','i','o','u']\n",
        "num_vocales = []\n",
        "for persona in nombres:\n",
        "  for j in range(0, len(persona)):\n",
        "    if persona[j] in list_vocale:\n",
        "      vocales+=1\n",
        "  print(persona, \"                  contiene\",\" \", vocales, \"vocales\")\n",
        "  num_vocales.append(vocales)\n",
        "  vocales = 0\n",
        "\n"
      ],
      "metadata": {
        "id": "Nv6Uoxx7A4wg",
        "colab": {
          "base_uri": "https://localhost:8080/"
        },
        "outputId": "04c1cb15-a695-4aa1-8ab9-8737064cb1e0"
      },
      "execution_count": null,
      "outputs": [
        {
          "output_type": "stream",
          "name": "stdout",
          "text": [
            "Los dominios de correo son: \n",
            "['gmail.com', 'licifug.ugto.mx', 'gmail.com', 'licifug.ugto.mx', 'hotmail.com', 'gmail.com', 'gmail.com', 'licifug.ugto.mx', 'cd.rodriguezlicea', 'pau', 'lemusae2019', 'gagruxeuwoiddi-1547', 'yeucroudussudu-8941', 'username1284', 'cheels.08', 'yael_baca', 'a.escobedo', 'mlem', 'hotmail.com', 'ugto.mx', 'ugto.mx', 'licifug.ugto.mx', 'gmail.com', 'ugto.mx']\n",
            " \n",
            " \n",
            "Los nombres de usuario y las vocales que contienen son: \n",
            "veronicamc1223                   contiene   4 vocales\n",
            "alvarezcu2019                   contiene   4 vocales\n",
            "uridedomjua                   contiene   6 vocales\n",
            "hernandeztj2019                   contiene   3 vocales\n",
            "serart_98                   contiene   2 vocales\n",
            "bgbg5530                   contiene   0 vocales\n",
            "perritofaldero_33                   contiene   6 vocales\n",
            "perezrj2019                   contiene   2 vocales\n",
            "                   contiene   0 vocales\n",
            "ugto.mx                   contiene   2 vocales\n",
            "gmail.com                   contiene   3 vocales\n",
            "licifug.ugto.mx                   contiene   5 vocales\n",
            "yopmail.com                   contiene   4 vocales\n",
            "yopmail.com                   contiene   4 vocales\n",
            "outlook.com                   contiene   5 vocales\n",
            "gmail.com                   contiene   3 vocales\n",
            "hotmail.com.mlemmmm                   contiene   5 vocales\n",
            "hotmail.com                   contiene   4 vocales\n",
            "e.martinezmiranda                   contiene   7 vocales\n",
            "se.lopezlazaro                   contiene   6 vocales\n",
            "ca.gonzalezcorona                   contiene   7 vocales\n",
            "jimenezsa2018                   contiene   4 vocales\n",
            "silviamendozza15                   contiene   6 vocales\n",
            "vm.gonzalezaguayo                   contiene   7 vocales\n"
          ]
        }
      ]
    }
  ]
}